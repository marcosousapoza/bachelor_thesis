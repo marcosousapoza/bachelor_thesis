{
 "cells": [
  {
   "attachments": {},
   "cell_type": "markdown",
   "id": "3ea78714-5bd9-41c2-84d5-b0360798a97a",
   "metadata": {},
   "source": [
    "# Read the data"
   ]
  },
  {
   "cell_type": "code",
   "execution_count": 19,
   "id": "1d853f24-31f0-44bb-a725-ecd9b191a229",
   "metadata": {},
   "outputs": [],
   "source": [
    "import pandas as pd\n",
    "import numpy as np\n",
    "from tqdm import tqdm\n",
    "\n",
    "import matplotlib.pyplot as plt\n",
    "import seaborn as sns\n",
    "%matplotlib inline\n",
    "\n",
    "plt.rcParams['figure.figsize'] = (40, 10)\n",
    "sns.set_style(\"whitegrid\")"
   ]
  },
  {
   "cell_type": "code",
   "execution_count": 20,
   "id": "32cd6261",
   "metadata": {},
   "outputs": [],
   "source": [
    "threshold = 0.8\n",
    "year_cutoff = 2000"
   ]
  },
  {
   "cell_type": "code",
   "execution_count": 21,
   "id": "f26f6486",
   "metadata": {},
   "outputs": [],
   "source": [
    "def read_module(path, cutoff, threshold):\n",
    "    # create a row filter\n",
    "    skiprows = pd.read_csv(path, usecols=['syear'])['syear'] < cutoff\n",
    "    skiprows = skiprows[skiprows].index.to_numpy() + 1\n",
    "    # Read the data\n",
    "    columns = pd.read_csv(path, nrows=1).columns\n",
    "    batches = [columns[i:i+400] for i in range(0, len(columns), 400)]\n",
    "    usecols = []\n",
    "    for batch in tqdm(batches):\n",
    "        chunk = pd.read_csv(path, usecols=batch, skiprows=skiprows)\n",
    "        chunk = chunk.select_dtypes(include='number')\n",
    "        # fitler nan values\n",
    "        n = chunk.shape[0]\n",
    "        for column in chunk.columns:\n",
    "            nans = np.sum((chunk[column] < 0) | (chunk[column].isna()))\n",
    "            usecols.append((column, 1 - nans/n))\n",
    "    usecols = [x for x, y in usecols if y > threshold]\n",
    "    return pd.read_csv(path, usecols=usecols, skiprows=skiprows)\n",
    "\n",
    "def read_variables(path_values, path_variables):\n",
    "    variables = pd.DataFrame()\n",
    "    values = pd.DataFrame()\n",
    "    for pval, pvar in zip(path_values, path_variables):\n",
    "        var = pd.read_csv(\n",
    "            pvar,\n",
    "            usecols = ['variable', 'label_de']\n",
    "        )\n",
    "        var.rename(columns={'label_de':'variable_label'}, inplace=True)\n",
    "        val = pd.read_csv(\n",
    "            pval,\n",
    "            usecols=['variable', 'value', 'label_de']\n",
    "        )\n",
    "        val.rename(columns={'label_de':'value_label'}, inplace=True)\n",
    "        variables = pd.concat([variables, var], axis=0, ignore_index=True)\n",
    "        values = pd.concat([values, val], axis=0, ignore_index=True)\n",
    "    return variables, values\n"
   ]
  },
  {
   "cell_type": "code",
   "execution_count": 22,
   "id": "cabc1b04-2b90-4c56-8f4b-d7e1966593e7",
   "metadata": {},
   "outputs": [
    {
     "name": "stderr",
     "output_type": "stream",
     "text": [
      "100%|██████████| 12/12 [09:06<00:00, 45.55s/it]\n",
      "100%|██████████| 4/4 [00:28<00:00,  7.16s/it]\n",
      "100%|██████████| 1/1 [00:00<00:00,  2.64it/s]\n",
      "100%|██████████| 1/1 [00:00<00:00,  2.20it/s]\n"
     ]
    },
    {
     "name": "stdout",
     "output_type": "stream",
     "text": [
      "Selected 19 columns from health.\n",
      "Selected 60 columns from pl.\n",
      "Selected 36 columns from hl.\n",
      "Selected 5 columns from regionl.\n"
     ]
    }
   ],
   "source": [
    "import warnings\n",
    "warnings.filterwarnings('ignore', category=pd.errors.DtypeWarning)\n",
    "\n",
    "pl_path = './data/soep/CSV/pl.csv'\n",
    "pl = read_module(pl_path, year_cutoff, threshold)\n",
    "# calculate age\n",
    "pl['age'] = pl['syear']\n",
    "pl['age'] -= pl['ple0010_h']\n",
    "# calculate date\n",
    "time = pl[['syear', 'pmonin', 'ptagin']].rename(columns={'syear':'year', 'pmonin':'month', 'ptagin':'day'})\n",
    "pl['time'] = pd.to_datetime(time, errors='coerce')\n",
    "pl.to_parquet(\"./data/pl.parquet.gzip\", index=False)\n",
    "\n",
    "hl_path = './data/soep/CSV/hl.csv'\n",
    "hl = read_module(hl_path, year_cutoff, threshold)\n",
    "hl.to_parquet(\"./data/hl.parquet.gzip\", index=False)\n",
    "\n",
    "health_path = './data/soep/CSV/health.csv'\n",
    "health = read_module(health_path, year_cutoff, 0.4)\n",
    "health.to_parquet(\"./data/health.parquet.gzip\", index=False)\n",
    "\n",
    "regionl_path = './data/soep/CSV/regionl.csv'\n",
    "regionl = read_module(regionl_path, year_cutoff, 0.8)\n",
    "regionl.to_parquet(\"./data/regionl.parquet.gzip\", index=False)\n",
    "\n",
    "print(f\"Selected {health.shape[1]} columns from health.\")\n",
    "print(f\"Selected {pl.shape[1]} columns from pl.\")\n",
    "print(f\"Selected {hl.shape[1]} columns from hl.\")\n",
    "print(f\"Selected {regionl.shape[1]} columns from regionl.\")"
   ]
  },
  {
   "cell_type": "code",
   "execution_count": 23,
   "id": "a2ac9958",
   "metadata": {},
   "outputs": [
    {
     "name": "stdout",
     "output_type": "stream",
     "text": [
      "In total 108 were selected.\n"
     ]
    }
   ],
   "source": [
    "\n",
    "# Read variable labels\n",
    "path_values = [\n",
    "    './data/soep/CSV/pl_values.csv',\n",
    "    './data/soep/CSV/hl_values.csv',\n",
    "    './data/soep/CSV/health_values.csv',\n",
    "    './data/soep/CSV/regionl_values.csv'\n",
    "]\n",
    "path_variables = [\n",
    "    './data/soep/CSV/pl_variables.csv',\n",
    "    './data/soep/CSV/hl_variables.csv',\n",
    "    './data/soep/CSV/health_variables.csv',\n",
    "    './data/soep/CSV/regionl_variables.csv'\n",
    "]\n",
    "all_cols = set(pl.columns) | set(hl.columns) | set(health.columns) | set(regionl.columns)\n",
    "variables, values = read_variables(path_values, path_variables)\n",
    "# filter filtered columns\n",
    "variables = variables[variables['variable'].isin(all_cols)]\n",
    "values = values[values['variable'].isin(all_cols)]\n",
    "# remove duplicates\n",
    "variables.drop_duplicates(subset='variable', inplace=True)\n",
    "values.drop_duplicates(subset=['variable', 'value'], inplace=True)\n",
    "\n",
    "# save the data\n",
    "variables.to_parquet(\"./data/variables.parquet.gzip\", index=False)\n",
    "values.to_parquet(\"./data/values.parquet.gzip\", index=False)\n",
    "\n",
    "print(f\"In total {len(variables['variable'])} were selected.\")"
   ]
  }
 ],
 "metadata": {
  "kernelspec": {
   "display_name": "thesis",
   "language": "python",
   "name": "python3"
  },
  "language_info": {
   "codemirror_mode": {
    "name": "ipython",
    "version": 3
   },
   "file_extension": ".py",
   "mimetype": "text/x-python",
   "name": "python",
   "nbconvert_exporter": "python",
   "pygments_lexer": "ipython3",
   "version": "3.10.11"
  }
 },
 "nbformat": 4,
 "nbformat_minor": 5
}
